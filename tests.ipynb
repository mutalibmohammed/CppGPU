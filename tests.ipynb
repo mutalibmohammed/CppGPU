{
 "cells": [
  {
   "cell_type": "code",
   "execution_count": 30,
   "metadata": {},
   "outputs": [],
   "source": [
    "import matplotlib.pyplot as plt\n",
    "from matplotlib.patches import Rectangle"
   ]
  },
  {
   "cell_type": "code",
   "execution_count": 116,
   "metadata": {},
   "outputs": [],
   "source": [
    "# Find wavefront coordinates:\n",
    "def wavefront(ny, nx, wave):\n",
    "    xmin = max(1, wave - (ny - 1 ))\n",
    "    xmax = min(wave - 1, nx - 1 - 1)\n",
    "\n",
    "    return range(xmin, xmax+1), [wave - x for x in range(xmin, xmax+1)]\n"
   ]
  },
  {
   "cell_type": "code",
   "execution_count": 117,
   "metadata": {},
   "outputs": [
    {
     "data": {
      "image/png": "[encoded data removed]",
      "text/plain": [
       "<Figure size 640x480 with 1 Axes>"
      ]
     },
     "metadata": {},
     "output_type": "display_data"
    }
   ],
   "source": [
    "# Set the size of the grid\n",
    "grid_size_x = 10\n",
    "grid_size_y = 6\n",
    "\n",
    "# Create a figure and a grid of subplots\n",
    "fig, ax = plt.subplots()\n",
    "\n",
    "# Invert the y-axis to have the origin at the top left corner\n",
    "ax.invert_yaxis()\n",
    "\n",
    "# Set the ticks and labels for both axes to represent the grid\n",
    "ax.set_xticks(range(grid_size_x + 1))\n",
    "ax.set_yticks(range(grid_size_y + 1))\n",
    "ax.set_xticklabels(range(grid_size_x + 1))\n",
    "ax.set_yticklabels(range(grid_size_y + 1))\n",
    "\n",
    "# Ensure the axis limits are set to show all grid points\n",
    "ax.set_xlim(0, grid_size_x)\n",
    "ax.set_ylim(grid_size_y, 0) \n",
    "\n",
    "ax.margins(0)\n",
    "\n",
    "# Draw grid lines\n",
    "ax.grid(True)\n",
    "\n",
    "\n",
    "for wave in [0, 1, 5,  9 , 13, 14]:\n",
    "    # Assuming wavefront() returns coordinates for the diagonal line\n",
    "    a, b = wavefront(grid_size_y, grid_size_x, wave)\n",
    "\n",
    "    # Color each cell\n",
    "    # Example list of cell coordinates to color\n",
    "    for x, y in zip(a, b):\n",
    "        rect = Rectangle((x, y), 1, 1, color='lightblue')  # Change color as needed\n",
    "        ax.add_patch(rect)\n",
    "\n",
    "\n",
    "# Optionally, set the grid style\n",
    "plt.grid(which='both', color='gray', linestyle='-', linewidth=0.5)\n",
    "\n",
    "\n",
    "# Show the plot\n",
    "plt.show()"
   ]
  },
  {
   "cell_type": "code",
   "execution_count": null,
   "metadata": {},
   "outputs": [],
   "source": []
  }
 ],
 "metadata": {
  "kernelspec": {
   "display_name": ".venv",
   "language": "python",
   "name": "python3"
  },
  "language_info": {
   "codemirror_mode": {
    "name": "ipython",
    "version": 3
   },
   "file_extension": ".py",
   "mimetype": "text/x-python",
   "name": "python",
   "nbconvert_exporter": "python",
   "pygments_lexer": "ipython3",
   "version": "3.12.3"
  }
 },
 "nbformat": 4,
 "nbformat_minor": 2
}
